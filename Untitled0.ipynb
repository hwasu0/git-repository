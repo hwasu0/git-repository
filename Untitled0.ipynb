{
  "nbformat": 4,
  "nbformat_minor": 0,
  "metadata": {
    "colab": {
      "provenance": [],
      "gpuType": "T4",
      "authorship_tag": "ABX9TyN/sD9/PXB3HsEhVf4Z/7iK",
      "include_colab_link": true
    },
    "kernelspec": {
      "name": "python3",
      "display_name": "Python 3"
    },
    "language_info": {
      "name": "python"
    }
  },
  "cells": [
    {
      "cell_type": "markdown",
      "metadata": {
        "id": "view-in-github",
        "colab_type": "text"
      },
      "source": [
        "<a href=\"https://colab.research.google.com/github/hwasu0/git-repository/blob/master/Untitled0.ipynb\" target=\"_parent\"><img src=\"https://colab.research.google.com/assets/colab-badge.svg\" alt=\"Open In Colab\"/></a>"
      ]
    },
    {
      "cell_type": "code",
      "source": [
        "count = 0\n",
        "while (1):\n",
        "  print(\"let me go home\")\n",
        "  count += 1\n",
        "  if count == 5:\n",
        "    break\n",
        ""
      ],
      "metadata": {
        "id": "tiSiNAAu428h",
        "outputId": "42586a79-6ba3-470a-9b29-b84f6c06986d",
        "colab": {
          "base_uri": "https://localhost:8080/"
        }
      },
      "execution_count": 1,
      "outputs": [
        {
          "output_type": "stream",
          "name": "stdout",
          "text": [
            "let me go home\n",
            "let me go home\n",
            "let me go home\n",
            "let me go home\n",
            "let me go home\n"
          ]
        }
      ]
    }
  ]
}